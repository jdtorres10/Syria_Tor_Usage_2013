#!/usr/bin/env python3
# -*- coding: utf-8 -*-
"""
Created on Sat Feb 24 13:32:01 2018

@author: JDMacBook
"""

import numpy as np
import pandas as pd
import matplotlib.pyplot as plt 

df = pd.read_excel('SyriaTor.xlsx')
print(df.head())
#create a list called Year with the Months of the Year
Year = ['Jan', 'Feb', 'Mar', 'Apr', 'May', 'Jun', 'Jul', 'Aug', 'Sep', 'Oct', 'Nov', 'Dec']
print()

#Slice SyriaTor.xlsx by rows correlating to Months of the Yr in 2013
# for ex. df[0:32] gives me the rows for Jan 13 

J13 = df[0:32]
F13 = df[33:60]
M13 = df[61:91]
A13 = df[92:121]
MY13 = df[122:152] 
J13 = df[153:182]
JY13 = df[183:213]
AT13 = df[214:244]
S13 = df[245:274]
O13 = df[275:305]
N13 = df[306:335]
D13 = df[336:366]


SY13_r =[]
SY13_b =[]

a = sum(J13['Tor Relay']), sum(F13['Tor Relay']), sum(M13['Tor Relay']),sum(A13['Tor Relay']), sum(MY13['Tor Relay']), sum(J13['Tor Relay']),sum(JY13['Tor Relay']), sum(AT13['Tor Relay']), sum(S13['Tor Relay']),sum(O13['Tor Relay']), sum(N13['Tor Relay']), sum(D13['Tor Relay'])
        
SY13_r.append(a)
print('List by Monthly totals of Syria Tor Relay Users', SY13_r)
print()

b = sum(J13['Tor Bridge']), sum(F13['Tor Bridge']), sum(M13['Tor Bridge']),sum(A13['Tor Bridge']), sum(MY13['Tor Bridge']), sum(J13['Tor Bridge']),sum(JY13['Tor Bridge']), sum(AT13['Tor Bridge']), sum(S13['Tor Bridge']),sum(O13['Tor Bridge']), sum(N13['Tor Bridge']), sum(D13['Tor Bridge'])
SY13_b.append(b)
print('List by Monthly totals of Syria Tor Bridge Users', SY13_b)


n_groups = 12
fig, ax = plt.subplots()


index = np.arange(n_groups)
bar_width = 0.35
opacity = 0.4
error_config = {'ecolor': '0.3'}

rects1 = ax.bar(index, a, bar_width,
                alpha=opacity, color='b',
                error_kw=error_config,
                label='Tor Relays')

rects2 = ax.bar(index + bar_width, b, bar_width,
                alpha=opacity, color='r',
                error_kw=error_config,
                label='Tor Bridges')

ax.set_xlabel('2013')
ax.set_ylabel('# of Users')
ax.set_title('Tor Users in Syria')
ax.set_xticks(index + bar_width / 2)
ax.set_xticklabels(Year)
ax.legend()
plt.show()
